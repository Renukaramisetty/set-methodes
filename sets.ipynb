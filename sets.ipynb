{
 "cells": [
  {
   "cell_type": "code",
   "execution_count": 1,
   "id": "4bdf2f96-9f00-49a5-b63f-2cee44122fb6",
   "metadata": {},
   "outputs": [
    {
     "name": "stdout",
     "output_type": "stream",
     "text": [
      "original set: {1, 2, 3, 4}\n",
      "after add operation: {1, 2, 3, 100, 4}\n",
      "after update operation: {1, 2, 3, 100, 4, 20, 30}\n",
      "after remove operation: {1, 3, 100, 4, 20, 30}\n",
      "after discard operation: {1, 3, 100, 4, 30}\n",
      "after pop operation: 1 {3, 100, 4, 30}\n",
      "after clear operation: set()\n"
     ]
    }
   ],
   "source": [
    " s={1,2,3,4}\n",
    "print(\"original set:\",s)\n",
    "s.add(100)\n",
    "print(\"after add operation:\",s)\n",
    "s.update({1,20,30}) \n",
    "print(\"after update operation:\",s) \n",
    "s.remove(2) \n",
    "print(\"after remove operation:\",s)\n",
    "s.discard(20)\n",
    "print(\"after discard operation:\",s)\n",
    "val=s.pop() \n",
    "print(\"after pop operation:\",val,s)\n",
    "s.clear()\n",
    "print(\"after clear operation:\",s)"
   ]
  },
  {
   "cell_type": "code",
   "execution_count": 6,
   "id": "5f5db3a3-427f-474a-9377-4395f511ffe1",
   "metadata": {},
   "outputs": [
    {
     "name": "stdout",
     "output_type": "stream",
     "text": [
      "{1, 2, 3, 4, 5, 6} {3, 4} {1, 2} {1, 2, 5, 6}\n"
     ]
    }
   ],
   "source": [
    "#union,intersection,difference,symmetric difference\n",
    "s1={1,2,3,4}\n",
    "s2={3,4,5,6}\n",
    "union=s1.union(s2)\n",
    "intersection=s1.intersection(s2)\n",
    "difference=s1.difference(s2)\n",
    "symmetric_difference=s1.symmetric_difference(s2)\n",
    "print(union,intersection,difference,symmetric_difference)"
   ]
  },
  {
   "cell_type": "code",
   "execution_count": 9,
   "id": "8a0f66d1-9e4f-4529-84d5-0a7e2a103f8a",
   "metadata": {},
   "outputs": [
    {
     "name": "stdout",
     "output_type": "stream",
     "text": [
      "False\n",
      "True\n",
      "False\n",
      "True\n"
     ]
    }
   ],
   "source": [
    "#is subset,#is super set,# is disjoint\n",
    "s1={1,2,3,4,5,6}\n",
    "s2={4,6}\n",
    "print(s1.issubset(s2))\n",
    "print(s1.issuperset(s2))\n",
    "print(s1.isdisjoint(s2))\n",
    "print(s2.issubset(s1))"
   ]
  },
  {
   "cell_type": "code",
   "execution_count": null,
   "id": "4d714947-2d7a-4986-af48-a35bad5211f6",
   "metadata": {},
   "outputs": [],
   "source": []
  }
 ],
 "metadata": {
  "kernelspec": {
   "display_name": "Python 3 (ipykernel)",
   "language": "python",
   "name": "python3"
  },
  "language_info": {
   "codemirror_mode": {
    "name": "ipython",
    "version": 3
   },
   "file_extension": ".py",
   "mimetype": "text/x-python",
   "name": "python",
   "nbconvert_exporter": "python",
   "pygments_lexer": "ipython3",
   "version": "3.13.5"
  }
 },
 "nbformat": 4,
 "nbformat_minor": 5
}
